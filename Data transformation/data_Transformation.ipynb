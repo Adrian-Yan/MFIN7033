{
 "cells": [
  {
   "cell_type": "code",
   "execution_count": null,
   "metadata": {},
   "outputs": [],
   "source": [
    "'''\n",
    "File: data_Transformation.ipynb\n",
    "Project: Data transformation\n",
    "File Created: Wednesday, 16th November 2022 3:15:53 am\n",
    "Author: Raymond Yan Jin (yanjinn@connect.hku.hk)\n",
    "-----\n",
    "Last Modified: Wednesday, 16th November 2022 6:25:41 am\n",
    "Modified By: Raymond Yan Jin (yanjinn@connect.hku.hk>)\n",
    "-----\n",
    "Copyright 2022 - 2022 Business School, The University of Hong Kong\n",
    "'''\n"
   ]
  },
  {
   "cell_type": "code",
   "execution_count": 5,
   "metadata": {},
   "outputs": [],
   "source": [
    "import numpy as np \n",
    "import pandas as pd\n",
    "\n",
    "# Read the data\n",
    "deal_data = pd.read_csv('data/deal_level_data.csv')\n",
    "quarter_data = pd.read_csv('data/quarter_level_data.csv')"
   ]
  },
  {
   "cell_type": "code",
   "execution_count": null,
   "metadata": {},
   "outputs": [],
   "source": [
    "# Data exploration\n",
    "deal_data.head()\n",
    "quarter_data.head()\n",
    "deal_data.shape # (3005,1467)\n",
    "quarter_data.shape  # (75125,42)\n",
    "deal_data.columns.to_list()\n",
    "quarter_data.columns.to_list()\n",
    "# 75125/3005 = 25 so the logic is to divide the deal data according to the quarters"
   ]
  },
  {
   "cell_type": "code",
   "execution_count": 9,
   "metadata": {},
   "outputs": [
    {
     "ename": "NotImplementedError",
     "evalue": "iLocation based boolean indexing on an integer type is not available",
     "output_type": "error",
     "traceback": [
      "\u001b[1;31m---------------------------------------------------------------------------\u001b[0m",
      "\u001b[1;31mNotImplementedError\u001b[0m                       Traceback (most recent call last)",
      "Cell \u001b[1;32mIn [9], line 12\u001b[0m\n\u001b[0;32m      8\u001b[0m \u001b[39mif\u001b[39;00m quarter_to_event \u001b[39m<\u001b[39m \u001b[39m0\u001b[39m:\n\u001b[0;32m      9\u001b[0m     \u001b[39mfor\u001b[39;00m j \u001b[39min\u001b[39;00m \u001b[39mrange\u001b[39m(\u001b[39m16\u001b[39m,\u001b[39m42\u001b[39m):\n\u001b[0;32m     10\u001b[0m         \u001b[39m#deal.loc[:,deal.index[j]] = deal_data.loc[:,(deal_data['Acquirer_Name_clean'] == acquirer_name) \\\u001b[39;00m\n\u001b[0;32m     11\u001b[0m         \u001b[39m#    & (deal_data['Target_Name_clean'] == target_name)][deal.index[j]+'__'+str(-quarter_to_event)].values\u001b[39;00m\n\u001b[1;32m---> 12\u001b[0m         deal\u001b[39m.\u001b[39mloc[:,deal\u001b[39m.\u001b[39mindex[j]] \u001b[39m=\u001b[39m deal_data\u001b[39m.\u001b[39;49miloc[:,(deal_data[\u001b[39m'\u001b[39;49m\u001b[39mAcquirer_Name_clean\u001b[39;49m\u001b[39m'\u001b[39;49m] \u001b[39m==\u001b[39;49m acquirer_name) \\\n\u001b[0;32m     13\u001b[0m             \u001b[39m&\u001b[39;49m (deal_data[\u001b[39m'\u001b[39;49m\u001b[39mTarget_Name_clean\u001b[39;49m\u001b[39m'\u001b[39;49m] \u001b[39m==\u001b[39;49m target_name)][deal\u001b[39m.\u001b[39mindex[j]\u001b[39m+\u001b[39m\u001b[39m'\u001b[39m\u001b[39m__\u001b[39m\u001b[39m'\u001b[39m\u001b[39m+\u001b[39m\u001b[39mstr\u001b[39m(\u001b[39m-\u001b[39mquarter_to_event)]\u001b[39m.\u001b[39mvalues\n\u001b[0;32m     14\u001b[0m     quarter_data\u001b[39m.\u001b[39miloc[i,:] \u001b[39m=\u001b[39m deal\u001b[39m.\u001b[39mvalues\n\u001b[0;32m     16\u001b[0m \u001b[39melif\u001b[39;00m quarter_to_event \u001b[39m>\u001b[39m \u001b[39m0\u001b[39m:\n",
      "File \u001b[1;32mc:\\Projects\\Anaconda\\lib\\site-packages\\pandas\\core\\indexing.py:961\u001b[0m, in \u001b[0;36m_LocationIndexer.__getitem__\u001b[1;34m(self, key)\u001b[0m\n\u001b[0;32m    959\u001b[0m     \u001b[39mif\u001b[39;00m \u001b[39mself\u001b[39m\u001b[39m.\u001b[39m_is_scalar_access(key):\n\u001b[0;32m    960\u001b[0m         \u001b[39mreturn\u001b[39;00m \u001b[39mself\u001b[39m\u001b[39m.\u001b[39mobj\u001b[39m.\u001b[39m_get_value(\u001b[39m*\u001b[39mkey, takeable\u001b[39m=\u001b[39m\u001b[39mself\u001b[39m\u001b[39m.\u001b[39m_takeable)\n\u001b[1;32m--> 961\u001b[0m     \u001b[39mreturn\u001b[39;00m \u001b[39mself\u001b[39;49m\u001b[39m.\u001b[39;49m_getitem_tuple(key)\n\u001b[0;32m    962\u001b[0m \u001b[39melse\u001b[39;00m:\n\u001b[0;32m    963\u001b[0m     \u001b[39m# we by definition only have the 0th axis\u001b[39;00m\n\u001b[0;32m    964\u001b[0m     axis \u001b[39m=\u001b[39m \u001b[39mself\u001b[39m\u001b[39m.\u001b[39maxis \u001b[39mor\u001b[39;00m \u001b[39m0\u001b[39m\n",
      "File \u001b[1;32mc:\\Projects\\Anaconda\\lib\\site-packages\\pandas\\core\\indexing.py:1461\u001b[0m, in \u001b[0;36m_iLocIndexer._getitem_tuple\u001b[1;34m(self, tup)\u001b[0m\n\u001b[0;32m   1459\u001b[0m \u001b[39mdef\u001b[39;00m \u001b[39m_getitem_tuple\u001b[39m(\u001b[39mself\u001b[39m, tup: \u001b[39mtuple\u001b[39m):\n\u001b[1;32m-> 1461\u001b[0m     tup \u001b[39m=\u001b[39m \u001b[39mself\u001b[39;49m\u001b[39m.\u001b[39;49m_validate_tuple_indexer(tup)\n\u001b[0;32m   1462\u001b[0m     \u001b[39mwith\u001b[39;00m suppress(IndexingError):\n\u001b[0;32m   1463\u001b[0m         \u001b[39mreturn\u001b[39;00m \u001b[39mself\u001b[39m\u001b[39m.\u001b[39m_getitem_lowerdim(tup)\n",
      "File \u001b[1;32mc:\\Projects\\Anaconda\\lib\\site-packages\\pandas\\core\\indexing.py:769\u001b[0m, in \u001b[0;36m_LocationIndexer._validate_tuple_indexer\u001b[1;34m(self, key)\u001b[0m\n\u001b[0;32m    767\u001b[0m \u001b[39mfor\u001b[39;00m i, k \u001b[39min\u001b[39;00m \u001b[39menumerate\u001b[39m(key):\n\u001b[0;32m    768\u001b[0m     \u001b[39mtry\u001b[39;00m:\n\u001b[1;32m--> 769\u001b[0m         \u001b[39mself\u001b[39;49m\u001b[39m.\u001b[39;49m_validate_key(k, i)\n\u001b[0;32m    770\u001b[0m     \u001b[39mexcept\u001b[39;00m \u001b[39mValueError\u001b[39;00m \u001b[39mas\u001b[39;00m err:\n\u001b[0;32m    771\u001b[0m         \u001b[39mraise\u001b[39;00m \u001b[39mValueError\u001b[39;00m(\n\u001b[0;32m    772\u001b[0m             \u001b[39m\"\u001b[39m\u001b[39mLocation based indexing can only have \u001b[39m\u001b[39m\"\u001b[39m\n\u001b[0;32m    773\u001b[0m             \u001b[39mf\u001b[39m\u001b[39m\"\u001b[39m\u001b[39m[\u001b[39m\u001b[39m{\u001b[39;00m\u001b[39mself\u001b[39m\u001b[39m.\u001b[39m_valid_types\u001b[39m}\u001b[39;00m\u001b[39m] types\u001b[39m\u001b[39m\"\u001b[39m\n\u001b[0;32m    774\u001b[0m         ) \u001b[39mfrom\u001b[39;00m \u001b[39merr\u001b[39;00m\n",
      "File \u001b[1;32mc:\\Projects\\Anaconda\\lib\\site-packages\\pandas\\core\\indexing.py:1350\u001b[0m, in \u001b[0;36m_iLocIndexer._validate_key\u001b[1;34m(self, key, axis)\u001b[0m\n\u001b[0;32m   1348\u001b[0m \u001b[39mif\u001b[39;00m \u001b[39mhasattr\u001b[39m(key, \u001b[39m\"\u001b[39m\u001b[39mindex\u001b[39m\u001b[39m\"\u001b[39m) \u001b[39mand\u001b[39;00m \u001b[39misinstance\u001b[39m(key\u001b[39m.\u001b[39mindex, Index):\n\u001b[0;32m   1349\u001b[0m     \u001b[39mif\u001b[39;00m key\u001b[39m.\u001b[39mindex\u001b[39m.\u001b[39minferred_type \u001b[39m==\u001b[39m \u001b[39m\"\u001b[39m\u001b[39minteger\u001b[39m\u001b[39m\"\u001b[39m:\n\u001b[1;32m-> 1350\u001b[0m         \u001b[39mraise\u001b[39;00m \u001b[39mNotImplementedError\u001b[39;00m(\n\u001b[0;32m   1351\u001b[0m             \u001b[39m\"\u001b[39m\u001b[39miLocation based boolean \u001b[39m\u001b[39m\"\u001b[39m\n\u001b[0;32m   1352\u001b[0m             \u001b[39m\"\u001b[39m\u001b[39mindexing on an integer type \u001b[39m\u001b[39m\"\u001b[39m\n\u001b[0;32m   1353\u001b[0m             \u001b[39m\"\u001b[39m\u001b[39mis not available\u001b[39m\u001b[39m\"\u001b[39m\n\u001b[0;32m   1354\u001b[0m         )\n\u001b[0;32m   1355\u001b[0m     \u001b[39mraise\u001b[39;00m \u001b[39mValueError\u001b[39;00m(\n\u001b[0;32m   1356\u001b[0m         \u001b[39m\"\u001b[39m\u001b[39miLocation based boolean indexing cannot use \u001b[39m\u001b[39m\"\u001b[39m\n\u001b[0;32m   1357\u001b[0m         \u001b[39m\"\u001b[39m\u001b[39man indexable as a mask\u001b[39m\u001b[39m\"\u001b[39m\n\u001b[0;32m   1358\u001b[0m     )\n\u001b[0;32m   1359\u001b[0m \u001b[39mreturn\u001b[39;00m\n",
      "\u001b[1;31mNotImplementedError\u001b[0m: iLocation based boolean indexing on an integer type is not available"
     ]
    }
   ],
   "source": [
    "# Data transformation\n",
    "for i in range(quarter_data.shape[0]):\n",
    "    deal = quarter_data.iloc[i,:]\n",
    "    acquirer_name = deal['Acquirer_Name_clean']\n",
    "    target_name = deal['Target_Name_clean']\n",
    "    quarter_to_event = deal['quarter_to_the_event_date']\n",
    "\n",
    "    if quarter_to_event < 0:\n",
    "        for j in range(16,42):\n",
    "            #deal.loc[:,deal.index[j]] = deal_data.loc[:,(deal_data['Acquirer_Name_clean'] == acquirer_name) \\\n",
    "            #    & (deal_data['Target_Name_clean'] == target_name)][deal.index[j]+'__'+str(-quarter_to_event)].values\n",
    "            deal.loc[:,deal.index[j]] = deal_data.iloc[:,(deal_data['Acquirer_Name_clean'] == acquirer_name) \\\n",
    "                & (deal_data['Target_Name_clean'] == target_name)][deal.index[j]+'__'+str(-quarter_to_event)].values\n",
    "        quarter_data.iloc[i,:] = deal.values\n",
    "\n",
    "    elif quarter_to_event > 0:\n",
    "        for j in range(16,42):\n",
    "            #deal[deal.index[j]] = deal_data[(deal_data['Acquirer_Name_clean'] == acquirer_name) \\\n",
    "            #    & (deal_data['Target_Name_clean'] == target_name)][deal.index[j]+'_'+str(quarter_to_event)].values\n",
    "            deal.loc[:,deal.index[j]] = deal_data[(deal_data['Acquirer_Name_clean'] == acquirer_name) \\\n",
    "                & (deal_data['Target_Name_clean'] == target_name)][deal.index[j]+'_'+str(quarter_to_event)].values\n",
    "        quarter_data.iloc[i,:] = deal.values    \n",
    "\n",
    "    elif quarter_to_event == 0:\n",
    "        for j in range(16,42):\n",
    "            #deal[deal.index[j]] = deal_data[(deal_data['Acquirer_Name_clean'] == acquirer_name) \\\n",
    "            #    & (deal_data['Target_Name_clean'] == target_name)][deal.index[j]].values\n",
    "            deal.loc[:,deal.index[j]] = deal_data[(deal_data['Acquirer_Name_clean'] == acquirer_name) \\\n",
    "                & (deal_data['Target_Name_clean'] == target_name)][deal.index[j]].values\n",
    "        quarter_data.iloc[i,:] = deal.values\n",
    "        \n"
   ]
  },
  {
   "cell_type": "code",
   "execution_count": null,
   "metadata": {},
   "outputs": [],
   "source": [
    "# write the quarter data into a csv file\n",
    "quarter_data.to_csv('data/output.csv')"
   ]
  },
  {
   "cell_type": "code",
   "execution_count": null,
   "metadata": {},
   "outputs": [],
   "source": [
    "# if quarter_to_event < 0:\n",
    "quarter_to_event = -7\n",
    "for j in range(16,42):\n",
    "    deal[deal.index[j]] = deal_data[(deal_data['Acquirer_Name_clean'] == acquirer_name) \\\n",
    "        & (deal_data['Target_Name_clean'] == target_name)][deal.index[16]+'__'+str(j)]\n",
    "\n",
    "quarter_data.iloc[i,:] = deal\n",
    "# fetch a number in the deal data\n",
    "deal_data.iloc[1,deal.index[16]+'__'+str(3)]"
   ]
  },
  {
   "cell_type": "code",
   "execution_count": 36,
   "metadata": {},
   "outputs": [
    {
     "data": {
      "text/plain": [
       "0   NaN\n",
       "Name: Com_Net_Charge_Off__4, dtype: float64"
      ]
     },
     "execution_count": 36,
     "metadata": {},
     "output_type": "execute_result"
    }
   ],
   "source": [
    "# fetch a row in deal data that has the same acquirer and target name\n",
    "deal_data[(deal_data['Acquirer_Name_clean'] == acquirer_name) & (deal_data['Target_Name_clean'] == target_name)][deal.index[16]+'__'+str(4)]\n"
   ]
  },
  {
   "cell_type": "code",
   "execution_count": 7,
   "metadata": {},
   "outputs": [
    {
     "data": {
      "text/plain": [
       "6021"
      ]
     },
     "execution_count": 7,
     "metadata": {},
     "output_type": "execute_result"
    }
   ],
   "source": [
    "deal_data.iloc[1,4]"
   ]
  },
  {
   "cell_type": "code",
   "execution_count": 10,
   "metadata": {},
   "outputs": [
    {
     "data": {
      "text/plain": [
       "nan"
      ]
     },
     "execution_count": 10,
     "metadata": {},
     "output_type": "execute_result"
    }
   ],
   "source": [
    "# Com_Net_Charge_Off\n",
    "deal_data.iloc[1,deal_data.columns.get_loc('Com_Net_Charge_Off__4')]"
   ]
  },
  {
   "cell_type": "code",
   "execution_count": null,
   "metadata": {},
   "outputs": [],
   "source": []
  }
 ],
 "metadata": {
  "kernelspec": {
   "display_name": "Python 3.9.13 ('base')",
   "language": "python",
   "name": "python3"
  },
  "language_info": {
   "codemirror_mode": {
    "name": "ipython",
    "version": 3
   },
   "file_extension": ".py",
   "mimetype": "text/x-python",
   "name": "python",
   "nbconvert_exporter": "python",
   "pygments_lexer": "ipython3",
   "version": "3.9.13"
  },
  "orig_nbformat": 4,
  "vscode": {
   "interpreter": {
    "hash": "72af1ffc75a182d8026fd8f0e4608e6219cf801f8e77b227b63b94805427af6d"
   }
  }
 },
 "nbformat": 4,
 "nbformat_minor": 2
}
