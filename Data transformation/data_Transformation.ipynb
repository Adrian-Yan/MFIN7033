{
 "cells": [
  {
   "cell_type": "code",
   "execution_count": null,
   "metadata": {},
   "outputs": [],
   "source": [
    "'''\n",
    "File: data_Transformation.ipynb\n",
    "Project: Data transformation\n",
    "File Created: Wednesday, 16th November 2022 3:15:53 am\n",
    "Author: Raymond Yan Jin (yanjinn@connect.hku.hk)\n",
    "-----\n",
    "Last Modified: Wednesday, 16th November 2022 6:25:41 am\n",
    "Modified By: Raymond Yan Jin (yanjinn@connect.hku.hk>)\n",
    "-----\n",
    "Copyright 2022 - 2022 Business School, The University of Hong Kong\n",
    "'''\n"
   ]
  },
  {
   "cell_type": "code",
   "execution_count": 12,
   "metadata": {},
   "outputs": [],
   "source": [
    "import numpy as np \n",
    "import pandas as pd\n",
    "\n",
    "# Read the data\n",
    "deal_data = pd.read_csv(r'C:\\Users\\Yan Jin\\OneDrive - croissants\\Desktop\\学习资料\\HKU\\MFIN7033 Advanced Financial Programming and Databases\\Assignment\\2022 Fall MFIN7033\\2022 Fall Projects\\Data transformation\\data\\deal_level_data.csv')\n",
    "quarter_data = pd.read_csv(r'C:\\Users\\Yan Jin\\OneDrive - croissants\\Desktop\\学习资料\\HKU\\MFIN7033 Advanced Financial Programming and Databases\\Assignment\\2022 Fall MFIN7033\\2022 Fall Projects\\Data transformation\\data\\quarter_level_data.csv')"
   ]
  },
  {
   "cell_type": "code",
   "execution_count": null,
   "metadata": {},
   "outputs": [],
   "source": [
    "# Data exploration\n",
    "deal_data.head()\n",
    "quarter_data.head()\n",
    "deal_data.shape # (3005,1467)\n",
    "quarter_data.shape  # (75125,42)\n",
    "deal_data.columns,to_list()\n",
    "quarter_data.columns.to_list()\n",
    "# 75125/3005 = 25 so the logic is to divide the deal data according to the quarters"
   ]
  },
  {
   "cell_type": "code",
   "execution_count": null,
   "metadata": {},
   "outputs": [],
   "source": [
    "deal = deal_data."
   ]
  },
  {
   "cell_type": "code",
   "execution_count": null,
   "metadata": {},
   "outputs": [],
   "source": [
    "# Data transformation\n",
    "for i in range(quarter_data.shape[0]):\n",
    "    deal = quarter_data.iloc[i,:]\n",
    "    acquirer_name = deal['Acquirer_Name_clean']\n",
    "    target_name = deal['Target_Name_clean']\n",
    "    quarter_to_event = deal['quarter_to_the_event_date']\n",
    "\n",
    "    if quarter_to_event < 0:\n",
    "        for j in range(16,42):\n",
    "            deal.loc[:,deal.index[j]] = deal_data.loc[:,(deal_data['Acquirer_Name_clean'] == acquirer_name) \\\n",
    "                & (deal_data['Target_Name_clean'] == target_name)][deal.index[j]+'__'+str(-quarter_to_event)].values\n",
    "        quarter_data.iloc[i,:] = deal.values\n",
    "\n",
    "    elif quarter_to_event > 0:\n",
    "        for j in range(16,42):\n",
    "            #deal[deal.index[j]] = deal_data[(deal_data['Acquirer_Name_clean'] == acquirer_name) \\\n",
    "            #    & (deal_data['Target_Name_clean'] == target_name)][deal.index[j]+'_'+str(quarter_to_event)].values\n",
    "            deal.loc[:,deal.index[j]] = deal_data[(deal_data['Acquirer_Name_clean'] == acquirer_name) \\\n",
    "                & (deal_data['Target_Name_clean'] == target_name)][deal.index[j]+'__'+str(quarter_to_event)].values\n",
    "        quarter_data.iloc[i,:] = deal.values    \n",
    "\n",
    "    elif quarter_to_event == 0:\n",
    "        for j in range(16,42):\n",
    "            #deal[deal.index[j]] = deal_data[(deal_data['Acquirer_Name_clean'] == acquirer_name) \\\n",
    "            #    & (deal_data['Target_Name_clean'] == target_name)][deal.index[j]].values\n",
    "            deal.loc[:,deal.index[j]] = deal_data[(deal_data['Acquirer_Name_clean'] == acquirer_name) \\\n",
    "                & (deal_data['Target_Name_clean'] == target_name)][deal.index[j]].values\n",
    "        quarter_data.iloc[i,:] = deal.values\n",
    "        \n"
   ]
  },
  {
   "cell_type": "code",
   "execution_count": null,
   "metadata": {},
   "outputs": [],
   "source": [
    "# data transformation\n",
    "for i in range(quarter_data.shape[0]):\n",
    "    quarter_deal = quarter_data.iloc[i,:]\n",
    "    acquirer_name = deal['Acquirer_Name_clean']\n",
    "    target_name = deal['Target_Name_clean']\n",
    "    quarter_to_event = deal['quarter_to_the_event_date']"
   ]
  },
  {
   "cell_type": "code",
   "execution_count": 13,
   "metadata": {},
   "outputs": [],
   "source": [
    "quarter_deal = quarter_data.iloc[1,:]\n",
    "acquirer_name = deal['Acquirer_Name_clean']\n",
    "target_name = deal['Target_Name_clean']\n",
    "quarter_to_event = deal['quarter_to_the_event_date']"
   ]
  },
  {
   "cell_type": "code",
   "execution_count": null,
   "metadata": {},
   "outputs": [],
   "source": [
    "# write the quarter data into a csv file\n",
    "quarter_data.to_csv(r'C:\\Users\\Yan Jin\\OneDrive - croissants\\Desktop\\学习资料\\HKU\\MFIN7033 Advanced Financial Programming and Databases\\Assignment\\2022 Fall MFIN7033\\2022 Fall Projects\\Data transformation\\data\\output.csv')"
   ]
  },
  {
   "cell_type": "code",
   "execution_count": 28,
   "metadata": {},
   "outputs": [
    {
     "data": {
      "text/plain": [
       "nan"
      ]
     },
     "execution_count": 28,
     "metadata": {},
     "output_type": "execute_result"
    }
   ],
   "source": [
    "# fetch the first row of the deal data\n",
    "deal = quarter_data.iloc[1,:]\n",
    "acquirer_name = deal['Acquirer_Name_clean']\n",
    "target_name = deal['Target_Name_clean']\n",
    "quarter_to_event = -1\n",
    "\n",
    "# index of the deal\n",
    "deal[deal.index[16]]"
   ]
  },
  {
   "cell_type": "code",
   "execution_count": 30,
   "metadata": {},
   "outputs": [
    {
     "data": {
      "text/plain": [
       "'Tar_TtlSalary_log'"
      ]
     },
     "execution_count": 30,
     "metadata": {},
     "output_type": "execute_result"
    }
   ],
   "source": [
    "deal.index[41]"
   ]
  },
  {
   "cell_type": "code",
   "execution_count": null,
   "metadata": {},
   "outputs": [],
   "source": [
    "# if quarter_to_event < 0:\n",
    "quarter_to_event = -7\n",
    "for j in range(16,42):\n",
    "    deal[deal.index[j]] = deal_data[(deal_data['Acquirer_Name_clean'] == acquirer_name) \\\n",
    "        & (deal_data['Target_Name_clean'] == target_name)][deal.index[16]+'__'+str(j)]\n",
    "\n",
    "quarter_data.iloc[i,:] = deal\n",
    "# fetch a number in the deal data\n",
    "deal_data.iloc[1,deal.index[16]+'__'+str(3)]"
   ]
  },
  {
   "cell_type": "code",
   "execution_count": 36,
   "metadata": {},
   "outputs": [
    {
     "data": {
      "text/plain": [
       "0   NaN\n",
       "Name: Com_Net_Charge_Off__4, dtype: float64"
      ]
     },
     "execution_count": 36,
     "metadata": {},
     "output_type": "execute_result"
    }
   ],
   "source": [
    "# fetch a row in deal data that has the same acquirer and target name\n",
    "deal_data[(deal_data['Acquirer_Name_clean'] == acquirer_name) & (deal_data['Target_Name_clean'] == target_name)][deal.index[16]+'__'+str(4)]\n"
   ]
  },
  {
   "cell_type": "code",
   "execution_count": null,
   "metadata": {},
   "outputs": [],
   "source": []
  }
 ],
 "metadata": {
  "kernelspec": {
   "display_name": "Python 3.10.4 64-bit",
   "language": "python",
   "name": "python3"
  },
  "language_info": {
   "codemirror_mode": {
    "name": "ipython",
    "version": 3
   },
   "file_extension": ".py",
   "mimetype": "text/x-python",
   "name": "python",
   "nbconvert_exporter": "python",
   "pygments_lexer": "ipython3",
   "version": "3.10.4"
  },
  "orig_nbformat": 4,
  "vscode": {
   "interpreter": {
    "hash": "3ad933181bd8a04b432d3370b9dc3b0662ad032c4dfaa4e4f1596c548f763858"
   }
  }
 },
 "nbformat": 4,
 "nbformat_minor": 2
}
