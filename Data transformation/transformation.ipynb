{
 "cells": [
  {
   "cell_type": "code",
   "execution_count": null,
   "metadata": {},
   "outputs": [],
   "source": [
    "'''\n",
    "File: transformation.ipynb\n",
    "Project: Data transformation\n",
    "File Created: Wednesday, 26th October 2022 2:43:08 pm (UTC+8:00)\n",
    "Author: Raymond Yan Jin (yanjinn@connect.hku.hk)\n",
    "-----\n",
    "Last Modified: Monday, 21st November 2022 10:06:35 am (UTC+8:00)\n",
    "Modified By: Raymond Yan Jin (yanjinn@connect.hku.hk>)\n",
    "-----\n",
    "Copyright 2022 - 2022 Business School, The University of Hong Kong\n",
    "'''\n"
   ]
  },
  {
   "cell_type": "code",
   "execution_count": 3,
   "metadata": {},
   "outputs": [],
   "source": [
    "import numpy as np \n",
    "import pandas as pd\n",
    "import os\n",
    "\n",
    "# Read the data\n",
    "deal_data = pd.read_csv('data/deal_level_data.csv')\n",
    "quarter_data = pd.read_csv('data/quarter_level_data.csv')"
   ]
  },
  {
   "cell_type": "code",
   "execution_count": 5,
   "metadata": {},
   "outputs": [
    {
     "data": {
      "text/plain": [
       "['Deal_Number',\n",
       " 'Date_Announced',\n",
       " 'Year_Announced',\n",
       " 'Acquirer_Name_clean',\n",
       " 'Acquirer_Primary_SIC',\n",
       " 'Acquirer_State_abbr',\n",
       " 'Acquirer_CUSIP',\n",
       " 'Acquirer_Ticker',\n",
       " 'Target_Name_clean',\n",
       " 'Target_Primary_SIC',\n",
       " 'Target_State_abbr',\n",
       " 'Target_CUSIP',\n",
       " 'Target_Ticker',\n",
       " 'Attitude',\n",
       " 'quarter_to_the_event_date',\n",
       " 'quarter',\n",
       " 'Com_Net_Charge_Off',\n",
       " 'Com_Insider_Loan',\n",
       " 'Com_NIE',\n",
       " 'Com_NII',\n",
       " 'Com_NIM',\n",
       " 'Com_ROA',\n",
       " 'Com_Total_Assets',\n",
       " 'Com_AvgSalary',\n",
       " 'Com_EmployNum',\n",
       " 'Com_TtlSalary',\n",
       " 'Com_AvgSalary_log',\n",
       " 'Com_EmployNum_log',\n",
       " 'Com_TtlSalary_log',\n",
       " 'Tar_Net_Charge_Off',\n",
       " 'Tar_Insider_Loan',\n",
       " 'Tar_NIE',\n",
       " 'Tar_NII',\n",
       " 'Tar_NIM',\n",
       " 'Tar_ROA',\n",
       " 'Tar_Total_Assets',\n",
       " 'Tar_AvgSalary',\n",
       " 'Tar_EmployNum',\n",
       " 'Tar_TtlSalary',\n",
       " 'Tar_AvgSalary_log',\n",
       " 'Tar_EmployNum_log',\n",
       " 'Tar_TtlSalary_log']"
      ]
     },
     "execution_count": 5,
     "metadata": {},
     "output_type": "execute_result"
    }
   ],
   "source": [
    "# Data exploration\n",
    "deal_data.head()\n",
    "quarter_data.head()\n",
    "deal_data.shape # (3005,1467)\n",
    "quarter_data.shape  # (75125,42)\n",
    "deal_data.columns.to_list()\n",
    "quarter_data.columns.to_list()\n",
    "# 75125/3005 = 25 so the logic is to divide the deal data according to the quarters"
   ]
  },
  {
   "cell_type": "code",
   "execution_count": null,
   "metadata": {},
   "outputs": [],
   "source": [
    "# too slow, takes 20mins\n",
    "for i in range(quarter_data.shape[0]):\n",
    "    deal = quarter_data.iloc[i,:]\n",
    "    acquirer = deal['Acquirer_CUSIP']\n",
    "    target = deal['Target_CUSIP']\n",
    "    year = deal['Year_Announced']\n",
    "    quarter_to_event = deal['quarter_to_the_event_date']\n",
    "\n",
    "    if quarter_to_event < 0:\n",
    "        for j in range(16,42):\n",
    "            quarter_data.iloc[i,j] = deal_data.loc[(deal_data['Acquirer_CUSIP'] == acquirer)\\\n",
    "                                                 & (deal_data['Target_CUSIP'] == target)\\\n",
    "                                                 & (deal_data['Year_Announced'] == year),\\\n",
    "                                                     quarter_data.columns[j]+'__'+str(-quarter_to_event)].values[0]\n",
    "    elif quarter_to_event > 0:\n",
    "        for j in range(16,42):\n",
    "            quarter_data.iloc[i,j] = deal_data.loc[(deal_data['Acquirer_CUSIP'] == acquirer)\\\n",
    "                                                 & (deal_data['Target_CUSIP'] == target)\\\n",
    "                                                 & (deal_data['Year_Announced'] == year),\\\n",
    "                                                     quarter_data.columns[j]+'_'+str(quarter_to_event)].values[0]\n",
    "    else:\n",
    "        for j in range(16,42):\n",
    "            quarter_data.iloc[i,j] = deal_data.loc[(deal_data['Acquirer_CUSIP'] == acquirer)\\\n",
    "                                                 & (deal_data['Target_CUSIP'] == target)\\\n",
    "                                                 & (deal_data['Year_Announced'] == year),\\\n",
    "                                                     quarter_data.columns[j]].values[0]\n",
    "\n",
    "quarter_data.to_csv('data/quarter_level_data_output.csv',index=False)\n",
    "                "
   ]
  }
 ],
 "metadata": {
  "kernelspec": {
   "display_name": "Python 3.9.13 ('base')",
   "language": "python",
   "name": "python3"
  },
  "language_info": {
   "codemirror_mode": {
    "name": "ipython",
    "version": 3
   },
   "file_extension": ".py",
   "mimetype": "text/x-python",
   "name": "python",
   "nbconvert_exporter": "python",
   "pygments_lexer": "ipython3",
   "version": "3.9.13"
  },
  "orig_nbformat": 4,
  "vscode": {
   "interpreter": {
    "hash": "72af1ffc75a182d8026fd8f0e4608e6219cf801f8e77b227b63b94805427af6d"
   }
  }
 },
 "nbformat": 4,
 "nbformat_minor": 2
}
