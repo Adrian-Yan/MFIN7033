{
 "cells": [
  {
   "cell_type": "code",
   "execution_count": 42,
   "metadata": {},
   "outputs": [],
   "source": [
    "import pandas as pd \n",
    "from multiprocessing import Pool\n",
    "from fuzzywuzzy import fuzz\n",
    "import numpy as np\n",
    "\n",
    "# read the data\n",
    "acquirer_data = pd.read_excel(\"./data/acquirers.xlsx\")\n",
    "bank_data = pd.read_csv(\"./data/bank_names.csv\")\n",
    "output = pd.DataFrame(columns=[\"acquirer\", \"match1\", \"match2\", \"match3\", \"match4\", \"match5\"])\n"
   ]
  },
  {
   "cell_type": "code",
   "execution_count": 29,
   "metadata": {},
   "outputs": [],
   "source": [
    "bank_list = bank_data['bank_names'].tolist()"
   ]
  },
  {
   "cell_type": "code",
   "execution_count": 30,
   "metadata": {},
   "outputs": [],
   "source": [
    "# fuzzy match\n",
    "def fuzzy_match(index):\n",
    "    match_list = []\n",
    "    firm_name = acquirer_data.loc[index, 'Acquirer Name']\n",
    "    for bank_name in bank_list:\n",
    "        similarity = fuzz.ratio(firm_name, bank_name) + \\\n",
    "                    fuzz.partial_ratio(firm_name, bank_name) + \\\n",
    "                    fuzz.token_sort_ratio(firm_name, bank_name) + \\\n",
    "                    fuzz.token_set_ratio(firm_name, bank_name)\n",
    "        match_list.append((similarity, bank_name))\n",
    "    \n",
    "    match_list.sort(key=lambda x: x[0], reverse=True)\n",
    "    match = [element[1] for element in match_list[:5]]\n",
    "    output.loc[index] = [firm_name] + match\n"
   ]
  },
  {
   "cell_type": "code",
   "execution_count": 1,
   "metadata": {},
   "outputs": [
    {
     "ename": "NameError",
     "evalue": "name 'Pool' is not defined",
     "output_type": "error",
     "traceback": [
      "\u001b[0;31m---------------------------------------------------------------------------\u001b[0m",
      "\u001b[0;31mNameError\u001b[0m                                 Traceback (most recent call last)",
      "Cell \u001b[0;32mIn [1], line 3\u001b[0m\n\u001b[1;32m      1\u001b[0m \u001b[39m# parallelize the fuzzy match\u001b[39;00m\n\u001b[1;32m      2\u001b[0m \u001b[39mif\u001b[39;00m \u001b[39m__name__\u001b[39m \u001b[39m==\u001b[39m \u001b[39m'\u001b[39m\u001b[39m__main__\u001b[39m\u001b[39m'\u001b[39m:\n\u001b[0;32m----> 3\u001b[0m     pool \u001b[39m=\u001b[39m Pool(\u001b[39m4\u001b[39m)\n\u001b[1;32m      4\u001b[0m     pool\u001b[39m.\u001b[39mmap(fuzzy_match, \u001b[39mrange\u001b[39m(\u001b[39mlen\u001b[39m(acquirer_data)))\n\u001b[1;32m      5\u001b[0m     pool\u001b[39m.\u001b[39mstart()\n",
      "\u001b[0;31mNameError\u001b[0m: name 'Pool' is not defined"
     ]
    }
   ],
   "source": [
    "# parallelize the fuzzy match\n",
    "if __name__ == '__main__':\n",
    "    pool = Pool(4)\n",
    "    pool.map(fuzzy_match, range(len(acquirer_data)))\n",
    "    pool.start()\n",
    "    pool.join()\n"
   ]
  },
  {
   "cell_type": "code",
   "execution_count": null,
   "metadata": {},
   "outputs": [],
   "source": []
  }
 ],
 "metadata": {
  "kernelspec": {
   "display_name": "Python 3.10.4 64-bit",
   "language": "python",
   "name": "python3"
  },
  "language_info": {
   "codemirror_mode": {
    "name": "ipython",
    "version": 3
   },
   "file_extension": ".py",
   "mimetype": "text/x-python",
   "name": "python",
   "nbconvert_exporter": "python",
   "pygments_lexer": "ipython3",
   "version": "3.10.4"
  },
  "orig_nbformat": 4,
  "vscode": {
   "interpreter": {
    "hash": "3ad933181bd8a04b432d3370b9dc3b0662ad032c4dfaa4e4f1596c548f763858"
   }
  }
 },
 "nbformat": 4,
 "nbformat_minor": 2
}
