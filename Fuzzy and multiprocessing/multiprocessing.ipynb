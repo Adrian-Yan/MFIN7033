{
 "cells": [
  {
   "cell_type": "code",
   "execution_count": null,
   "metadata": {},
   "outputs": [],
   "source": [
    "'''\n",
    "File: multiprocessing.ipynb\n",
    "Project: Fuzzy and multiprocessing\n",
    "File Created: Wednesday, 16th November 2022 3:15:53 am\n",
    "Author: Raymond Yan Jin (yanjinn@connect.hku.hk)\n",
    "-----\n",
    "Last Modified: Wednesday, 16th November 2022 6:24:17 am\n",
    "Modified By: Raymond Yan Jin (yanjinn@connect.hku.hk>)\n",
    "-----\n",
    "Copyright 2022 - 2022 Business School, The University of Hong Kong\n",
    "'''\n"
   ]
  },
  {
   "cell_type": "code",
   "execution_count": 51,
   "metadata": {},
   "outputs": [],
   "source": [
    "import pandas as pd \n",
    "from multiprocessing import Pool\n",
    "#from multiprocessing import Manager\n",
    "from fuzzywuzzy import fuzz\n",
    "import numpy as np\n",
    "import csv\n",
    "\n",
    "# read the data\n",
    "acquirer_data = pd.read_excel(\"./data/acquirers.xlsx\")\n",
    "bank_data = pd.read_csv(\"./data/bank_names.csv\")\n",
    "output = pd.DataFrame(columns=[\"acquirer\", \"match1\", \"match2\", \"match3\", \"match4\", \"match5\"])\n",
    "output[\"acquirer\"] = acquirer_data[\"Acquirer Name\"] \n",
    "\n"
   ]
  },
  {
   "cell_type": "code",
   "execution_count": 45,
   "metadata": {},
   "outputs": [],
   "source": [
    "bank_list = bank_data['bank_names'].tolist()"
   ]
  },
  {
   "cell_type": "code",
   "execution_count": 54,
   "metadata": {},
   "outputs": [],
   "source": [
    "# fuzzy match\n",
    "def fuzzy_match(index):\n",
    "    \n",
    "    match_list = []\n",
    "    firm_name = acquirer_data.loc[index, 'Acquirer Name']\n",
    "    for bank_name in bank_list:\n",
    "        similarity = fuzz.ratio(firm_name, bank_name) + \\\n",
    "                    fuzz.partial_ratio(firm_name, bank_name) + \\\n",
    "                    fuzz.token_sort_ratio(firm_name, bank_name) + \\\n",
    "                    fuzz.token_set_ratio(firm_name, bank_name)\n",
    "        match_list.append((similarity, bank_name))\n",
    "    \n",
    "    match_list.sort(key=lambda x: x[0], reverse=True)\n",
    "    match = [element[1] for element in match_list[:5]]\n",
    "    # append the result to a csv file\n",
    "    with open(\"./data/output.csv\", \"a\", newline=\"\") as f:\n",
    "        writer = csv.writer(f)\n",
    "        writer.writerow([index] + [firm_name] + match)\n",
    "        f.close()\n",
    "\n",
    "\n"
   ]
  },
  {
   "cell_type": "code",
   "execution_count": null,
   "metadata": {},
   "outputs": [],
   "source": []
  },
  {
   "cell_type": "code",
   "execution_count": 55,
   "metadata": {},
   "outputs": [],
   "source": [
    "# parallelize the fuzzy match\n",
    "if __name__ == '__main__':\n",
    "    global output\n",
    "    pool = Pool(4)\n",
    "    pool.map(fuzzy_match, range(acquirer_data.shape[0]))\n"
   ]
  },
  {
   "cell_type": "code",
   "execution_count": 56,
   "metadata": {},
   "outputs": [],
   "source": [
    "# sort the result\n",
    "output = pd.read_csv(\"./data/output.csv\", header=None)\n",
    "output.columns = [\"index\", \"acquirer\", \"match1\", \"match2\", \"match3\", \"match4\", \"match5\"]\n",
    "output = output.sort_values(by=\"index\")\n"
   ]
  },
  {
   "cell_type": "code",
   "execution_count": 5,
   "metadata": {},
   "outputs": [],
   "source": [
    "# give value to the output where acquirer name is test\n",
    "output = pd.read_csv(\"./data/output.csv\")\n",
    "output.loc[output['acquirer'] == 'test', 'match1'] = 'test'"
   ]
  },
  {
   "cell_type": "code",
   "execution_count": 33,
   "metadata": {},
   "outputs": [],
   "source": [
    "# test the identicality of the output\n",
    "for i in range(acquirer_data.shape[0]):\n",
    "    fuzzy_match(i)"
   ]
  },
  {
   "cell_type": "code",
   "execution_count": null,
   "metadata": {},
   "outputs": [],
   "source": []
  }
 ],
 "metadata": {
  "kernelspec": {
   "display_name": "Python 3.10.4 64-bit",
   "language": "python",
   "name": "python3"
  },
  "language_info": {
   "codemirror_mode": {
    "name": "ipython",
    "version": 3
   },
   "file_extension": ".py",
   "mimetype": "text/x-python",
   "name": "python",
   "nbconvert_exporter": "python",
   "pygments_lexer": "ipython3",
   "version": "3.10.4"
  },
  "orig_nbformat": 4,
  "vscode": {
   "interpreter": {
    "hash": "3ad933181bd8a04b432d3370b9dc3b0662ad032c4dfaa4e4f1596c548f763858"
   }
  }
 },
 "nbformat": 4,
 "nbformat_minor": 2
}
