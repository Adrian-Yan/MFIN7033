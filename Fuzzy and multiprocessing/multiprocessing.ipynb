{
 "cells": [
  {
   "cell_type": "code",
   "execution_count": 3,
   "metadata": {},
   "outputs": [],
   "source": [
    "import pandas as pd \n",
    "from multiprocessing import Pool\n",
    "\n",
    "# read the data\n",
    "acquirer_data = pd.read_excel(r'C:\\Users\\Yan Jin\\OneDrive - croissants\\Desktop\\学习资料\\HKU\\MFIN7033 Advanced Financial Programming and Databases\\Assignment\\2022 Fall MFIN7033\\2022 Fall Projects\\Fuzzy and multiprocessing\\data\\acquirers.xlsx')\n",
    "bank_data = pd.read_csv(r'C:\\Users\\Yan Jin\\OneDrive - croissants\\Desktop\\学习资料\\HKU\\MFIN7033 Advanced Financial Programming and Databases\\Assignment\\2022 Fall MFIN7033\\2022 Fall Projects\\Fuzzy and multiprocessing\\data\\bank_names.csv')\n"
   ]
  },
  {
   "cell_type": "code",
   "execution_count": null,
   "metadata": {},
   "outputs": [],
   "source": [
    "# fuzzy match the acquirer name\n",
    "def fuzzy_match(row):\n",
    "    # get the acquirer name\n",
    "    acquirer_name = row['Acquirer Name']\n",
    "    # get the bank name\n",
    "    bank_name = row['Bank Name']\n",
    "    # get the similarity\n",
    "    similarity = fuzz.ratio(acquirer_name, bank_name)\n",
    "    # return the similarity\n",
    "    return similarity\n",
    "\n",
    "\n",
    "\n"
   ]
  },
  {
   "cell_type": "code",
   "execution_count": null,
   "metadata": {},
   "outputs": [],
   "source": [
    "# fuzzy match the acquirer name and bank name\n",
    "def fuzzy_match_bank_name(acquirer_data, bank_data):\n",
    "    # create a new column\n",
    "    acquirer_data['Similarity'] = 0\n",
    "    # loop through the acquirer data\n",
    "    for index, row in acquirer_data.iterrows():\n",
    "        # get the acquirer name\n",
    "        acquirer_name = row['Acquirer Name']\n",
    "        # loop through the bank data\n",
    "        for index, row in bank_data.iterrows():\n",
    "            # get the bank name\n",
    "            bank_name = row['Bank Name']\n",
    "            # get the similarity\n",
    "            similarity = fuzz.ratio(acquirer_name, bank_name)\n",
    "            # update the similarity\n",
    "            acquirer_data.loc[index, 'Similarity'] = similarity\n",
    "    # return the acquirer data\n",
    "    return acquirer_data"
   ]
  }
 ],
 "metadata": {
  "kernelspec": {
   "display_name": "Python 3.9.12 ('base')",
   "language": "python",
   "name": "python3"
  },
  "language_info": {
   "codemirror_mode": {
    "name": "ipython",
    "version": 3
   },
   "file_extension": ".py",
   "mimetype": "text/x-python",
   "name": "python",
   "nbconvert_exporter": "python",
   "pygments_lexer": "ipython3",
   "version": "3.9.13"
  },
  "orig_nbformat": 4,
  "vscode": {
   "interpreter": {
    "hash": "72af1ffc75a182d8026fd8f0e4608e6219cf801f8e77b227b63b94805427af6d"
   }
  }
 },
 "nbformat": 4,
 "nbformat_minor": 2
}
