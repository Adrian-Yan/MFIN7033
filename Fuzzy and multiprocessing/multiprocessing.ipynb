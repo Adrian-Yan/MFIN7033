{
 "cells": [
  {
   "cell_type": "code",
   "execution_count": 3,
   "metadata": {},
   "outputs": [],
   "source": [
    "import pandas as pd \n",
    "from multiprocessing import Pool\n",
    "from fuzzywuzzy import fuzz\n",
    "\n",
    "# read the data\n",
    "acquirer_data = pd.read_excel(\"./data/acquirers.xlsx\")\n",
    "bank_data = pd.read_csv(\"./data/bank_names.csv\")\n"
   ]
  },
  {
   "cell_type": "code",
   "execution_count": 8,
   "metadata": {},
   "outputs": [],
   "source": [
    "bank_list = bank_data['bank_names'].tolist()"
   ]
  },
  {
   "cell_type": "code",
   "execution_count": null,
   "metadata": {},
   "outputs": [],
   "source": [
    "# fuzzy match\n",
    "def fuzzy_match(index):\n",
    "    firm_name = acquirer_data.loc[index, 'Acquirer Name']\n",
    "    for bank_name in bank_list:\n",
    "        similarity = fuzz.ratio(firm_name, bank_name) + \\\n",
    "                    fuzz.partial_ratio(firm_name, bank_name) + \\\n",
    "                    fuzz.token_sort_ratio(firm_name, bank_name) + \\\n",
    "                    fuzz.token_set_ratio(firm_name, bank_name)"
   ]
  },
  {
   "cell_type": "code",
   "execution_count": 9,
   "metadata": {},
   "outputs": [],
   "source": [
    "index = 1\n",
    "a = acquirer_data.loc[index, 'Acquirer Name']\n",
    "b = bank_list[0]"
   ]
  },
  {
   "cell_type": "code",
   "execution_count": 13,
   "metadata": {},
   "outputs": [
    {
     "data": {
      "text/plain": [
       "31"
      ]
     },
     "execution_count": 13,
     "metadata": {},
     "output_type": "execute_result"
    }
   ],
   "source": [
    "fuzz.token_sort_ratio(a, b) "
   ]
  },
  {
   "cell_type": "code",
   "execution_count": null,
   "metadata": {},
   "outputs": [],
   "source": []
  }
 ],
 "metadata": {
  "kernelspec": {
   "display_name": "Python 3.10.4 64-bit",
   "language": "python",
   "name": "python3"
  },
  "language_info": {
   "codemirror_mode": {
    "name": "ipython",
    "version": 3
   },
   "file_extension": ".py",
   "mimetype": "text/x-python",
   "name": "python",
   "nbconvert_exporter": "python",
   "pygments_lexer": "ipython3",
   "version": "3.10.4"
  },
  "orig_nbformat": 4,
  "vscode": {
   "interpreter": {
    "hash": "3ad933181bd8a04b432d3370b9dc3b0662ad032c4dfaa4e4f1596c548f763858"
   }
  }
 },
 "nbformat": 4,
 "nbformat_minor": 2
}
