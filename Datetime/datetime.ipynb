{
 "cells": [
  {
   "cell_type": "code",
   "execution_count": 18,
   "metadata": {},
   "outputs": [],
   "source": [
    "import numpy as np \n",
    "import pandas as pd\n",
    "import datetime as dt\n",
    "\n",
    "# read the data\n",
    "data = pd.read_csv(r'C:\\Users\\Yan Jin\\OneDrive - croissants\\Desktop\\学习资料\\HKU\\MFIN7033 Advanced Financial Programming and Databases\\Assignment\\2022 Fall MFIN7033\\2022 Fall Projects\\Datetime\\data\\ukpound_exchange.csv')\n"
   ]
  },
  {
   "cell_type": "code",
   "execution_count": null,
   "metadata": {},
   "outputs": [],
   "source": [
    "# data exploration\n",
    "data.shape # (8429, 4)\n",
    "data.head()"
   ]
  },
  {
   "cell_type": "code",
   "execution_count": 21,
   "metadata": {},
   "outputs": [],
   "source": [
    "# select the row of date as the end of the month\n",
    "data['Date'] = pd.to_datetime(data['Date'])\n",
    "output = data[data['Date'].dt.is_month_end]"
   ]
  },
  {
   "cell_type": "code",
   "execution_count": 26,
   "metadata": {},
   "outputs": [
    {
     "data": {
      "text/plain": [
       "(276, 4)"
      ]
     },
     "execution_count": 26,
     "metadata": {},
     "output_type": "execute_result"
    }
   ],
   "source": [
    "# check the output data\n",
    "output.head()\n",
    "output.shape # (276, 4)"
   ]
  },
  {
   "cell_type": "code",
   "execution_count": 25,
   "metadata": {},
   "outputs": [],
   "source": [
    "# write the output data to csv\n",
    "output.to_csv(r'C:\\Users\\Yan Jin\\OneDrive - croissants\\Desktop\\学习资料\\HKU\\MFIN7033 Advanced Financial Programming and Databases\\Assignment\\2022 Fall MFIN7033\\2022 Fall Projects\\Datetime\\data\\output.csv', index = False)"
   ]
  },
  {
   "cell_type": "code",
   "execution_count": null,
   "metadata": {},
   "outputs": [],
   "source": []
  }
 ],
 "metadata": {
  "kernelspec": {
   "display_name": "Python 3.9.12 ('base')",
   "language": "python",
   "name": "python3"
  },
  "language_info": {
   "codemirror_mode": {
    "name": "ipython",
    "version": 3
   },
   "file_extension": ".py",
   "mimetype": "text/x-python",
   "name": "python",
   "nbconvert_exporter": "python",
   "pygments_lexer": "ipython3",
   "version": "3.9.12"
  },
  "orig_nbformat": 4,
  "vscode": {
   "interpreter": {
    "hash": "72af1ffc75a182d8026fd8f0e4608e6219cf801f8e77b227b63b94805427af6d"
   }
  }
 },
 "nbformat": 4,
 "nbformat_minor": 2
}
