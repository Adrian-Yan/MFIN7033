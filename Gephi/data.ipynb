{
 "cells": [
  {
   "cell_type": "code",
   "execution_count": 25,
   "metadata": {},
   "outputs": [],
   "source": [
    "import pandas as pd \n",
    "import numpy as np"
   ]
  },
  {
   "cell_type": "code",
   "execution_count": 13,
   "metadata": {},
   "outputs": [],
   "source": [
    "# read the txt file into a dataframe\n",
    "df1 = pd.read_csv('data/node.txt', sep='\\s+', header=None)"
   ]
  },
  {
   "cell_type": "code",
   "execution_count": 14,
   "metadata": {},
   "outputs": [],
   "source": [
    "node = pd.DataFrame(columns=['id', 'label', 'timeset'])\n",
    "node['id'] = df1.loc[:,1]\n",
    "node['label'] = df1.loc[:,1]"
   ]
  },
  {
   "cell_type": "code",
   "execution_count": 15,
   "metadata": {},
   "outputs": [],
   "source": [
    "node.to_csv('data/node.csv', index=False)"
   ]
  },
  {
   "cell_type": "code",
   "execution_count": 22,
   "metadata": {},
   "outputs": [],
   "source": [
    "df2 = pd.read_csv('data/edge.txt', sep='\\s+', header=None)"
   ]
  },
  {
   "cell_type": "code",
   "execution_count": 23,
   "metadata": {},
   "outputs": [],
   "source": [
    "for n in range(len(df2)):\n",
    "    df2.loc[n,0] = node.iloc[int(df2.loc[n,0])-1]['id']\n",
    "    df2.loc[n,1] = node.iloc[int(df2.loc[n,1])-1]['id']"
   ]
  },
  {
   "cell_type": "code",
   "execution_count": 26,
   "metadata": {},
   "outputs": [],
   "source": [
    "edge = pd.DataFrame(columns=['source', 'target', 'Type', 'Id', 'Label', 'timeset', 'weight'])\n",
    "edge['source'] = df2.loc[:,0]\n",
    "edge['target'] = df2.loc[:,1]\n",
    "edge['weight'] = df2.loc[:,2]\n",
    "edge['Type'] = 'Directed'\n",
    "edge['Id'] = np.arange(0,len(edge))"
   ]
  },
  {
   "cell_type": "code",
   "execution_count": 27,
   "metadata": {},
   "outputs": [],
   "source": [
    "edge.to_csv('data/edge.csv', index=False)"
   ]
  },
  {
   "cell_type": "code",
   "execution_count": null,
   "metadata": {},
   "outputs": [],
   "source": []
  }
 ],
 "metadata": {
  "kernelspec": {
   "display_name": "Python 3.9.13 ('base')",
   "language": "python",
   "name": "python3"
  },
  "language_info": {
   "codemirror_mode": {
    "name": "ipython",
    "version": 3
   },
   "file_extension": ".py",
   "mimetype": "text/x-python",
   "name": "python",
   "nbconvert_exporter": "python",
   "pygments_lexer": "ipython3",
   "version": "3.9.13"
  },
  "orig_nbformat": 4,
  "vscode": {
   "interpreter": {
    "hash": "72af1ffc75a182d8026fd8f0e4608e6219cf801f8e77b227b63b94805427af6d"
   }
  }
 },
 "nbformat": 4,
 "nbformat_minor": 2
}
