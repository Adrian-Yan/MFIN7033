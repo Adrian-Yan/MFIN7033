{
 "cells": [
  {
   "cell_type": "code",
   "execution_count": null,
   "metadata": {},
   "outputs": [],
   "source": [
    "'''\n",
    "File: data_concatenation.ipynb\n",
    "Project: Data concatenation\n",
    "File Created: Wednesday, 16th November 2022 3:15:53 am\n",
    "Author: Raymond Yan Jin (yanjinn@connect.hku.hk)\n",
    "-----\n",
    "Last Modified: Wednesday, 16th November 2022 6:25:57 am\n",
    "Modified By: Raymond Yan Jin (yanjinn@connect.hku.hk>)\n",
    "-----\n",
    "Copyright 2022 - 2022 Business School, The University of Hong Kong\n",
    "'''\n"
   ]
  },
  {
   "cell_type": "code",
   "execution_count": 1,
   "metadata": {},
   "outputs": [],
   "source": [
    "import numpy as np \n",
    "import pandas as pd\n",
    "\n",
    "# Read the data\n",
    "df1 = pd.read_csv('data/2014.csv')\n",
    "df2 = pd.read_csv('data/2015.csv')"
   ]
  },
  {
   "cell_type": "code",
   "execution_count": 2,
   "metadata": {},
   "outputs": [
    {
     "name": "stdout",
     "output_type": "stream",
     "text": [
      "The columns are the same\n"
     ]
    }
   ],
   "source": [
    "# data exploration\n",
    "df1.head()\n",
    "df2.head()\n",
    "df1.shape   #(54492, 58)\n",
    "df2.shape   #(39706, 58)\n",
    "\n",
    "# check the columns\n",
    "if df1.columns.tolist() == df2.columns.tolist():\n",
    "    print('The columns are the same')"
   ]
  },
  {
   "cell_type": "code",
   "execution_count": 3,
   "metadata": {},
   "outputs": [
    {
     "data": {
      "text/plain": [
       "(94198, 58)"
      ]
     },
     "execution_count": 3,
     "metadata": {},
     "output_type": "execute_result"
    }
   ],
   "source": [
    "# concatenate the data\n",
    "df = pd.concat([df1, df2], axis=0, ignore_index=True)\n",
    "\n",
    "# check the shape\n",
    "df.head()\n",
    "df.shape   #(94198, 58)"
   ]
  },
  {
   "cell_type": "code",
   "execution_count": 4,
   "metadata": {},
   "outputs": [],
   "source": [
    "# store the data into the csv file\n",
    "df.to_csv('data/output.csv', index=False)"
   ]
  },
  {
   "cell_type": "code",
   "execution_count": null,
   "metadata": {},
   "outputs": [],
   "source": []
  }
 ],
 "metadata": {
  "kernelspec": {
   "display_name": "Python 3.9.12 ('base')",
   "language": "python",
   "name": "python3"
  },
  "language_info": {
   "codemirror_mode": {
    "name": "ipython",
    "version": 3
   },
   "file_extension": ".py",
   "mimetype": "text/x-python",
   "name": "python",
   "nbconvert_exporter": "python",
   "pygments_lexer": "ipython3",
   "version": "3.9.13"
  },
  "orig_nbformat": 4,
  "vscode": {
   "interpreter": {
    "hash": "72af1ffc75a182d8026fd8f0e4608e6219cf801f8e77b227b63b94805427af6d"
   }
  }
 },
 "nbformat": 4,
 "nbformat_minor": 2
}
