{
 "cells": [
  {
   "cell_type": "code",
   "execution_count": null,
   "metadata": {},
   "outputs": [],
   "source": [
    "'''\n",
    "File: reddit.ipynb\n",
    "Project: webscrap\n",
    "File Created: Thursday, 17th November 2022 10:13:13 am (UTC+8:00)\n",
    "Author: Raymond Yan Jin (yanjinn@connect.hku.hk)\n",
    "-----\n",
    "Last Modified: Thursday, 17th November 2022 10:13:17 am (UTC+8:00)\n",
    "Modified By: Raymond Yan Jin (yanjinn@connect.hku.hk>)\n",
    "-----\n",
    "Copyright 2022 - 2022 Business School, The University of Hong Kong\n",
    "'''\n"
   ]
  },
  {
   "cell_type": "code",
   "execution_count": 1,
   "metadata": {},
   "outputs": [],
   "source": [
    "import pandas as pd\n",
    "import numpy as np\n",
    "import selenium\n",
    "from selenium import webdriver\n",
    "import time\n",
    "\n",
    "\"\"\" \n",
    "A. \tHeadline\n",
    "B. \tTime of Submission\n",
    "C. \tLink to Source\n",
    "D. \tNumber of Comments\n",
    "E.\tNumber of Points (Upvote - for bonus points)\n",
    "F.\tName of Submitting User\n",
    "\"\"\"\n",
    "\n",
    "\n",
    "browser = webdriver.Chrome(r\"C:\\Program Files\\Development\\chromedriver.exe\")"
   ]
  },
  {
   "cell_type": "code",
   "execution_count": 28,
   "metadata": {},
   "outputs": [],
   "source": [
    "# Try \"Elon Musk;Moody;Falcon\"\n",
    "input_str = input(\"Enter the list of topics you want to scrape, using comma to split: \")\n",
    "input_list = input_str.split(\";\")\n",
    "time_span = input(\"The time span you want to scrape, year or month: \")\n",
    "\n",
    "if time_span != \"year\" and time_span != \"month\":\n",
    "    print(\"time span input error\")"
   ]
  },
  {
   "cell_type": "code",
   "execution_count": 29,
   "metadata": {},
   "outputs": [
    {
     "name": "stdout",
     "output_type": "stream",
     "text": [
      "End of page\n",
      "End of page\n",
      "End of page\n"
     ]
    }
   ],
   "source": [
    "for n in range(len(input_list)):\n",
    "    temp = input_list[n]\n",
    "    target_url = \"https://www.reddit.com/r/worldnews/search?q={}&sort=new&restrict_sr=on&t={}\".format(temp, time_span)\n",
    "    browser.get(target_url)\n",
    "    Headline = {}\n",
    "    Time_of_Submission = {}\n",
    "    Link_to_Source = {}\n",
    "    Number_of_Comments = {}\n",
    "    Number_of_Points = {}\n",
    "    Name_of_Submitting_User = {}\n",
    "    #for i in range(10):\n",
    "    i = 1\n",
    "    while True:\n",
    "        try:       \n",
    "            Headline[i] = browser.find_element(\"xpath\", \"/html/body/div[1]/div/div[2]/div[2]/div/div/div/div[2]/div/div/div[2]/div[1]/div[2]/div[1]/div[{}]/div/div/div/div/div[2]/div/div/div[2]/a/div/h3\".format(i)).text\n",
    "            Time_of_Submission[i] = browser.find_element(\"xpath\", \"/html/body/div[1]/div/div[2]/div[2]/div/div/div/div[2]/div/div/div[2]/div[1]/div[2]/div[1]/div[{}]/div/div/div/div/div[1]/div[2]/span[2]\".format(i)).text\n",
    "            Link_to_Source[i] = browser.find_element(\"xpath\", \"/html/body/div[1]/div/div[2]/div[2]/div/div/div/div[2]/div/div/div[2]/div[1]/div[2]/div[1]/div[{}]/div/div/div/div/div[2]/div/a\".format(i)).text\n",
    "            Number_of_Comments[i] = browser.find_element(\"xpath\", \"/html/body/div[1]/div/div[2]/div[2]/div/div/div/div[2]/div/div/div[2]/div[1]/div[2]/div[1]/div[{}]/div/div/div/div/div[3]/span[2]\".format(i)).text.split(\" \")[0]\n",
    "            Number_of_Points[i] = browser.find_element(\"xpath\", \"/html/body/div[1]/div/div[2]/div[2]/div/div/div/div[2]/div/div/div[2]/div[1]/div[2]/div[1]/div[{}]/div/div/div/div/div[3]/span[1]\".format(i)).text.split(\" \")[0]\n",
    "            Name_of_Submitting_User[i] = browser.find_element(\"xpath\", \"/html/body/div[1]/div/div[2]/div[2]/div/div/div/div[2]/div/div/div[2]/div[1]/div[2]/div[1]/div[{}]/div/div/div/div/div[1]/div[2]/div/div/a\".format(i)).text.split(\"/\")[1]\n",
    "            i += 1\n",
    "            time.sleep(np.random.uniform(0.5, 1.5))\n",
    "        except:\n",
    "            print(\"End of page\")\n",
    "            break\n",
    "\n",
    "    output = pd.DataFrame({\"Headline\": Headline, \"Time_of_Submission\": Time_of_Submission, \"Link_to_Source\": Link_to_Source, \"Number_of_Comments\": Number_of_Comments, \"Number_of_Points\": Number_of_Points, \"Name_of_Submitting_User\": Name_of_Submitting_User})\n",
    "    output.to_csv(\"{}.csv\".format(temp), index = False)\n",
    "        "
   ]
  },
  {
   "cell_type": "code",
   "execution_count": 20,
   "metadata": {},
   "outputs": [],
   "source": [
    "browser.close()"
   ]
  },
  {
   "cell_type": "code",
   "execution_count": null,
   "metadata": {},
   "outputs": [],
   "source": []
  },
  {
   "cell_type": "code",
   "execution_count": null,
   "metadata": {},
   "outputs": [],
   "source": []
  },
  {
   "cell_type": "code",
   "execution_count": null,
   "metadata": {},
   "outputs": [],
   "source": []
  }
 ],
 "metadata": {
  "kernelspec": {
   "display_name": "Python 3.9.13 ('base')",
   "language": "python",
   "name": "python3"
  },
  "language_info": {
   "codemirror_mode": {
    "name": "ipython",
    "version": 3
   },
   "file_extension": ".py",
   "mimetype": "text/x-python",
   "name": "python",
   "nbconvert_exporter": "python",
   "pygments_lexer": "ipython3",
   "version": "3.9.13"
  },
  "orig_nbformat": 4,
  "vscode": {
   "interpreter": {
    "hash": "72af1ffc75a182d8026fd8f0e4608e6219cf801f8e77b227b63b94805427af6d"
   }
  }
 },
 "nbformat": 4,
 "nbformat_minor": 2
}
