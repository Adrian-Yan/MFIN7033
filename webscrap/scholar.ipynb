{
 "cells": [
  {
   "cell_type": "code",
   "execution_count": 1,
   "metadata": {},
   "outputs": [],
   "source": [
    "import pandas as pd \n",
    "import numpy as np\n",
    "import selenium\n",
    "from selenium import webdriver\n",
    "import time\n",
    "import requests\n",
    "from bs4 import BeautifulSoup\n",
    "\n",
    "browser = webdriver.Chrome(r\"C:\\Program Files\\Development\\chromedriver.exe\")"
   ]
  },
  {
   "cell_type": "code",
   "execution_count": 9,
   "metadata": {},
   "outputs": [],
   "source": [
    "# construct a get method to get json\n",
    "\n",
    "\n",
    "data = requests.get('https://api.semanticscholar.org/graph/v1/author/search?query=zigan+wang&fields=name,affiliations,aliases,url,papers.title')\n",
    "temp = data.json()\n"
   ]
  },
  {
   "cell_type": "code",
   "execution_count": 10,
   "metadata": {},
   "outputs": [
    {
     "data": {
      "text/plain": [
       "[{'authorId': '72925286',\n",
       "  'url': 'https://www.semanticscholar.org/author/72925286',\n",
       "  'name': 'Wang Zi-gan',\n",
       "  'aliases': ['Wang Zigan'],\n",
       "  'affiliations': [],\n",
       "  'papers': [{'paperId': '441abe83d9181b674fc6cd0da197c810fc98d0d7',\n",
       "    'title': 'Analysis on the Content of Chemical Components of Wild Dictamnus dasycarpus Turcz. from Northeast'}]},\n",
       " {'authorId': '2108466642',\n",
       "  'url': 'https://www.semanticscholar.org/author/2108466642',\n",
       "  'name': 'Zigan Wang',\n",
       "  'aliases': None,\n",
       "  'affiliations': [],\n",
       "  'papers': [{'paperId': '27c28104e146d331938f60f6001081e37213e32a',\n",
       "    'title': 'Corporate Environmental, Social, and Governance Performance Under Economic Policy Uncertainty: International Evidence'},\n",
       "   {'paperId': '40e578d8d2ac1ffd183ea7e1433d432e41e49c2a',\n",
       "    'title': 'The role of financial constraints in firm investment under pollution abatement regulation'},\n",
       "   {'paperId': 'bc0978b58c7003bf9fee41060e7643fcc3a6df57',\n",
       "    'title': 'Estimation and inference of treatment effects with L2-boosting in high-dimensional settings'},\n",
       "   {'paperId': '1d044eb36de780d59bbd09a5f629301b1576517d',\n",
       "    'title': 'Is Democracy Good for Corporate Investment?'},\n",
       "   {'paperId': '35a2ee2fc128a5dd70c23572ee406677fa97551a',\n",
       "    'title': 'Global Share Repurchases Over the Business Cycle'},\n",
       "   {'paperId': '4214cbd5f8eea4159cd385c569202de60a34754f',\n",
       "    'title': 'Political Connections, Financial Constraints, and Corporate Taxation'},\n",
       "   {'paperId': '6dd435ad376ffc3262eba51896a9ce6645f2ce7e',\n",
       "    'title': 'Effects of Legalizing Open Market Share Repurchases: International Evidence'},\n",
       "   {'paperId': 'f220984d081b301c7def58154ec55114993909d3',\n",
       "    'title': 'Do Share Repurchases Facilitate Movement Towards Target Capital Structure? International Evidence'},\n",
       "   {'paperId': '61fb06ccf9b13c0819d955e9d89a109d77c7df28',\n",
       "    'title': 'Real Effects of Share Repurchases Legalization on Corporate Behaviors'},\n",
       "   {'paperId': '7559300d67402459378dc8e4d0bbb0c716a9c861',\n",
       "    'title': 'Currency Volatility and Global Technological Innovation'},\n",
       "   {'paperId': '7b1e59a5299bcb9b2d4deb3393ff4df44170e4a1',\n",
       "    'title': 'The Power of the People: Labor Unions and Corporate Social Responsibility'},\n",
       "   {'paperId': 'c45367c1e9f2bf11a73a202c21fdbdcdff9cdc71',\n",
       "    'title': 'Foreign Exchange News and Currency Reversals'},\n",
       "   {'paperId': 'c7dec5fd509a29f47c1c7bf868b10c521291cab9',\n",
       "    'title': 'Bank Networks and Acquisitions'},\n",
       "   {'paperId': 'cfe259120c758a1db5acb4210aa2892f6b1a10d8',\n",
       "    'title': 'The Real Effects of Exchange Rate Risk on Corporate Investment: International Evidence'},\n",
       "   {'paperId': 'd3fd460e594848017e0769312a5bfc699fe4487d',\n",
       "    'title': 'Mandatory Pollution Abatement, Financial Constraint and Firm Investment'},\n",
       "   {'paperId': '785dbd496073f2a4bb2dd756990baddd53c7f6aa',\n",
       "    'title': 'Mandatory Pollution Abatement, Environmental Awareness, and Firm Investment'},\n",
       "   {'paperId': '9e93fd43c4729777429f67efee7da80b006961d7',\n",
       "    'title': 'Are Firms with Female CEOs More Environmentally Friendly?'},\n",
       "   {'paperId': 'b01a465a867a2fa1eb68727f58ea5a7625bb97ea',\n",
       "    'title': 'Corporate Political Connections and Favorable Environmental Regulatory Enforcement'},\n",
       "   {'paperId': 'b3bb4e1b726ad25ec641014f372ed6f05ca44e6b',\n",
       "    'title': 'Finance and Pollution : Do Credit Conditions Affect Toxic Emissions ?'},\n",
       "   {'paperId': '1639c316566541e756dd43f9a0eabba0a1980f60',\n",
       "    'title': 'Housing Bubble in the United States'},\n",
       "   {'paperId': '34cf4975ec330c429163a9ff8819997d4d8da1de',\n",
       "    'title': 'Budget Constraints , Market Opportunities and Off-Budget Financing of Local Governments in China'},\n",
       "   {'paperId': '3bbe680e592120efaccd0b656dce93dd4f5487f9',\n",
       "    'title': 'Evolution of Financial Studies Over Forty Years: What Can We Learn from Machine Learning?'},\n",
       "   {'paperId': '3e807786c4b370fe85575062c5082d4eecddc1f6',\n",
       "    'title': 'Toxic Emissions and Executive Migration'},\n",
       "   {'paperId': '7fa8934b2df1c198da7acccfe1818db5ce48b375',\n",
       "    'title': 'Pollution and Human Capital Migration: Evidence from Corporate Executives'},\n",
       "   {'paperId': '877069fc165ad2554de44aaca665afc411b15234',\n",
       "    'title': 'The Out-of-Sample Performance of Carry Trades'},\n",
       "   {'paperId': 'b6b319b5bfad390698edc9ba4d23491c92b74880',\n",
       "    'title': 'The Effects of Mandatory Pollution Abatement on Corporate Investment and Performance : Theory and Evidence from a U . S . Regulation * Tri'},\n",
       "   {'paperId': '702359aec8b5412920642aa98b173c47ca7bfbed',\n",
       "    'title': 'Acquiring Banking Networks'},\n",
       "   {'paperId': 'b0f5a85cad272d387e4b3b2c5e9201f3bd936dce',\n",
       "    'title': 'House Price , Land Sales and Local Government Finance in Developing Economies : Evidence from China'},\n",
       "   {'paperId': 'b42ed7bc703e0bbc4c79829139e737a0dbae269e',\n",
       "    'title': 'When Does a New Market Become Efficient? Evidence from an Emerging Index Futures Market'},\n",
       "   {'paperId': 'c0f6af92f14b4cbebc063d03bf09d7c78aa80261',\n",
       "    'title': 'Bank Liquidity, Credit Supply, and the Environment'},\n",
       "   {'paperId': '875d3eff168524496f3253a0017889472ab3afca',\n",
       "    'title': 'Technical Trading: Is it Still Beating the Foreign Exchange Market?'},\n",
       "   {'paperId': '48cf7fadcb02253fc88eca1ce92f916fc89cfe29',\n",
       "    'title': 'The Role of the Director Social Networks in Spreading Misconduct: The Case of Reverse Mergers'},\n",
       "   {'paperId': 'be0672b944a8d5550003803918186d0681e49304',\n",
       "    'title': 'Essays on Chinese Corporate Issuers and Financial Markets'},\n",
       "   {'paperId': '40b1394ef4d63c1f731a77d5ea61f66f9c1edc25',\n",
       "    'title': 'Stock market, Economic Performance and Presidential Elections'},\n",
       "   {'paperId': '8956b0c2afd0494c194a86c07da52a26de0e0d9e',\n",
       "    'title': 'Corporate Governance, Policies and Public Listing: The Case of Chinese State-owned Enterprises'},\n",
       "   {'paperId': 'b85f6f1fca146a04f92be09cc1a7c61fc412b89a',\n",
       "    'title': 'Are Foreign Companies Listed in the US Really Worth More? Information Asymmetry and Cross-Listing Discount of China Concepts Stocks'},\n",
       "   {'paperId': 'cd73155541b34abac1257f73f0106c32fd442cda',\n",
       "    'title': 'Stock Market, Economic Performance and Presidential Elections: Was the Market Right About the Presidents for Their Capability of Enhancing Economy?'},\n",
       "   {'paperId': 'e28c3ffc767c9e550044f006af33c2f0776a27bd',\n",
       "    'title': 'US-Listed Chinese Firms in Credibility Crisis: Who are They? Where are They?'},\n",
       "   {'paperId': '0b2a84a3b59eb09f5375146d0a8f806a724b3752',\n",
       "    'title': 'A dynamic model of house price'},\n",
       "   {'paperId': 'ee4011938d15148a00983c1384a08a4a13b2159f',\n",
       "    'title': 'American Housing Price in the 2000s'}]},\n",
       " {'authorId': '2102595114',\n",
       "  'url': 'https://www.semanticscholar.org/author/2102595114',\n",
       "  'name': 'Wang Zigan',\n",
       "  'aliases': None,\n",
       "  'affiliations': [],\n",
       "  'papers': [{'paperId': '1d450ba75da0736a7ae720bd8da01b821d86ee9d',\n",
       "    'title': 'Ultrasonic manifestations of gastrointestinal stromal tumors with liver metastases'}]}]"
      ]
     },
     "execution_count": 10,
     "metadata": {},
     "output_type": "execute_result"
    }
   ],
   "source": [
    "temp['data']"
   ]
  },
  {
   "cell_type": "code",
   "execution_count": null,
   "metadata": {},
   "outputs": [],
   "source": []
  }
 ],
 "metadata": {
  "kernelspec": {
   "display_name": "Python 3.9.13 ('base')",
   "language": "python",
   "name": "python3"
  },
  "language_info": {
   "codemirror_mode": {
    "name": "ipython",
    "version": 3
   },
   "file_extension": ".py",
   "mimetype": "text/x-python",
   "name": "python",
   "nbconvert_exporter": "python",
   "pygments_lexer": "ipython3",
   "version": "3.9.13"
  },
  "orig_nbformat": 4,
  "vscode": {
   "interpreter": {
    "hash": "72af1ffc75a182d8026fd8f0e4608e6219cf801f8e77b227b63b94805427af6d"
   }
  }
 },
 "nbformat": 4,
 "nbformat_minor": 2
}
