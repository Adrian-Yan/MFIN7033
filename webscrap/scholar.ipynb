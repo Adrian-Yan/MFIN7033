{
 "cells": [
  {
   "cell_type": "code",
   "execution_count": null,
   "metadata": {},
   "outputs": [],
   "source": [
    "'''\n",
    "File: scholar.ipynb\n",
    "Project: webscrap\n",
    "File Created: Monday, 21st November 2022 3:02:42 pm (UTC+8:00)\n",
    "Author: Raymond Yan Jin (yanjinn@connect.hku.hk)\n",
    "-----\n",
    "Last Modified: Monday, 21st November 2022 7:42:11 pm (UTC+8:00)\n",
    "Modified By: Raymond Yan Jin (yanjinn@connect.hku.hk>)\n",
    "-----\n",
    "Copyright 2022 - 2022 Business School, The University of Hong Kong\n",
    "'''\n"
   ]
  },
  {
   "cell_type": "code",
   "execution_count": 56,
   "metadata": {},
   "outputs": [],
   "source": [
    "import pandas as pd \n",
    "import numpy as np\n",
    "import selenium\n",
    "from selenium import webdriver\n",
    "import time\n",
    "\n",
    "\n",
    "browser = webdriver.Chrome(r\"C:\\Program Files\\Development\\chromedriver.exe\")"
   ]
  },
  {
   "cell_type": "code",
   "execution_count": 28,
   "metadata": {},
   "outputs": [],
   "source": [
    "vol = input(\"Enter the volume number(can be list seperated by comma, e.g 140;141): \")\n",
    "issue = input(\"Enter the issue number(can be list seperated by comma, e.g 1;2): \")\n",
    "\n",
    "vol = vol.split(\";\")\n",
    "issue = issue.split(\";\")\n"
   ]
  },
  {
   "cell_type": "code",
   "execution_count": 77,
   "metadata": {},
   "outputs": [],
   "source": [
    "for v in vol:\n",
    "    for i in issue:\n",
    "        url = \"https://www.sciencedirect.com/journal/journal-of-financial-economics/vol/{}/issue/{}\".format(v,i)\n",
    "        browser.get(url)\n",
    "        #time.sleep(5)\n",
    "        num = len(browser.find_elements(\"class name\", \"js-article-title\"))\n",
    "        articles = []\n",
    "        articles_url = []\n",
    "        authors = []\n",
    "        for j in range(num):\n",
    "            articles.append(browser.find_elements(\"class name\", \"js-article-title\")[j].text)\n",
    "            # get the link of each article\n",
    "            articles_url.append(browser.find_elements(\"class name\", \"article-content-title\")[j].get_attribute(\"href\"))\n",
    "            # get the author of each article\n",
    "            authors.append(browser.find_elements(\"class name\", \"js-article-author-list\")[j].text)\n",
    "            #drop the empty url\n",
    "            articles_url = [x for x in articles_url if x != '']\n",
    "        scholar = pd.DataFrame({\"Article\":articles, \"Author\":authors, \"URL\":articles_url})"
   ]
  },
  {
   "cell_type": "code",
   "execution_count": 69,
   "metadata": {},
   "outputs": [
    {
     "data": {
      "text/plain": [
       "'https://www.sciencedirect.com/browse/journals-and-books'"
      ]
     },
     "execution_count": 69,
     "metadata": {},
     "output_type": "execute_result"
    }
   ],
   "source": []
  },
  {
   "cell_type": "code",
   "execution_count": 71,
   "metadata": {},
   "outputs": [],
   "source": []
  },
  {
   "cell_type": "code",
   "execution_count": null,
   "metadata": {},
   "outputs": [],
   "source": [
    "scholar.to_csv(\"scholar.csv\", index = False)"
   ]
  }
 ],
 "metadata": {
  "kernelspec": {
   "display_name": "Python 3.9.13 ('base')",
   "language": "python",
   "name": "python3"
  },
  "language_info": {
   "codemirror_mode": {
    "name": "ipython",
    "version": 3
   },
   "file_extension": ".py",
   "mimetype": "text/x-python",
   "name": "python",
   "nbconvert_exporter": "python",
   "pygments_lexer": "ipython3",
   "version": "3.9.13"
  },
  "orig_nbformat": 4,
  "vscode": {
   "interpreter": {
    "hash": "72af1ffc75a182d8026fd8f0e4608e6219cf801f8e77b227b63b94805427af6d"
   }
  }
 },
 "nbformat": 4,
 "nbformat_minor": 2
}
