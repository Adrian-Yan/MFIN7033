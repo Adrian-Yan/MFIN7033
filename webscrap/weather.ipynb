{
 "cells": [
  {
   "cell_type": "markdown",
   "metadata": {},
   "source": [
    "- /html/body/main/section[2]/div/div[6]/div[1]/div/table/tbody/tr[1]\n",
    "- /html/body/main/section[2]/div/div[6]/div[1]/div/table/tbody/tr[3269]\n",
    "- /html/body/main/section[2]/div/div[6]/div[2]/div/table/tbody/tr[1]\n",
    "- /html/body/main/section[2]/div/div[6]/div[2]/div/table/tbody/tr[3271]"
   ]
  },
  {
   "cell_type": "code",
   "execution_count": null,
   "metadata": {},
   "outputs": [],
   "source": [
    "'''\n",
    "File: weather.ipynb\n",
    "Project: webscrap\n",
    "File Created: Wednesday, 16th November 2022 2:44:37 pm (UTC+8:00)\n",
    "Author: Raymond Yan Jin (yanjinn@connect.hku.hk)\n",
    "-----\n",
    "Last Modified: Wednesday, 16th November 2022 11:41:46 pm (UTC+8:00)\n",
    "Modified By: Raymond Yan Jin (yanjinn@connect.hku.hk>)\n",
    "-----\n",
    "Copyright 2022 - 2022 Business School, The University of Hong Kong\n",
    "'''\n"
   ]
  },
  {
   "cell_type": "code",
   "execution_count": 1,
   "metadata": {},
   "outputs": [],
   "source": [
    "import selenium\n",
    "from selenium import webdriver\n",
    "import pandas as pd\n",
    "import time\n",
    "import numpy as np\n",
    "\n",
    "browser = webdriver.Chrome(r\"C:\\Program Files\\Development\\chromedriver.exe\")"
   ]
  },
  {
   "cell_type": "code",
   "execution_count": null,
   "metadata": {},
   "outputs": [],
   "source": [
    "# Get a list of US city latitudes and longitudes\n",
    "target_url = \"https://www.mapsofworld.com/lat_long/usa-lat-long.html\"\n",
    "city_list = pd.DataFrame(columns=[\"City\", \"Latitude\", \"Longitude\"])\n",
    "browser.get(target_url)\n",
    "\n",
    "# do not execute together\n",
    "for m in range(1,3269):\n",
    "    data = browser.find_element(\"xpath\", \"/html/body/main/section[2]/div/div[6]/div[1]/div/table/tbody/tr[{}]\".format(m+1))\n",
    "    city = data.find_element(\"xpath\", \"td[1]\").text\n",
    "    latitude = data.find_element(\"xpath\", \"td[2]\").text\n",
    "    longitude = data.find_element(\"xpath\", \"/td[3]\").text\n",
    "    city_list = city_list.append({\"City\": city, \"Latitude\": latitude, \"Longitude\": longitude}, ignore_index=True)\n",
    "\n",
    "for n in range(1,3271):\n",
    "    data = browser.find_element(\"xpath\", \"/html/body/main/section[2]/div/div[6]/div[2]/div/table/tbody/tr[{}]\".format(n+1))\n",
    "    city = data.find_element(\"xpath\", \"td[1]\").text\n",
    "    latitude = data.find_element(\"xpath\", \"td[2]\").text\n",
    "    longitude = data.find_element(\"xpath\", \"td[3]\").text\n",
    "    city_list = city_list.append({\"City\": city, \"Latitude\": latitude, \"Longitude\": longitude}, ignore_index=True)"
   ]
  },
  {
   "cell_type": "code",
   "execution_count": 2,
   "metadata": {},
   "outputs": [],
   "source": [
    "#city_list.to_csv(\"data/city_list.csv\", index=False)\n",
    "# first 100 cities\n",
    "city_list = pd.read_csv(\"data/city_list.csv\")\n",
    "target_list = city_list.iloc[:100, :]"
   ]
  },
  {
   "cell_type": "code",
   "execution_count": 9,
   "metadata": {},
   "outputs": [],
   "source": [
    "temp_lat = target_list.iloc[0][\"Latitude\"]\n",
    "# transform the format into format like 46.58\n",
    "#temp = temp.apply(lambda x: x.split(\" \")[0] + \".\" + x.split(\" \")[1])\n",
    "temp_lon = target_list.iloc[0][\"Longitude\"]"
   ]
  },
  {
   "cell_type": "code",
   "execution_count": 3,
   "metadata": {},
   "outputs": [],
   "source": [
    "def lat_transform(x):\n",
    "    temp = x.split(\"°\")[0] + \".\" + x.split(\"°\")[1]\n",
    "    if temp[-1] == \"N\":\n",
    "        return temp[:-2]\n",
    "    if temp[-1] == \"S\":\n",
    "        return \"-\" + temp[:-2]\n",
    "    \n",
    "\n",
    "\n",
    "def lon_transform(x):\n",
    "    temp = x.split(\"°\")[0] + \".\" + x.split(\"°\")[1]\n",
    "    if temp[-1] == \"E\":\n",
    "        return temp[:-2]\n",
    "    if temp[-1] == \"W\":\n",
    "        return \"-\" + temp[:-2]\n"
   ]
  },
  {
   "cell_type": "code",
   "execution_count": 6,
   "metadata": {},
   "outputs": [
    {
     "data": {
      "text/plain": [
       "' Period_1 = browser.find_element(\"xpath\", \"/html/body/main/div/div[6]/div[1]/div[1]/div[2]/div[1]/div[1]/b\").text\\nDes_1 = browser.find_element(\"xpath\", \"/html/body/main/div/div[6]/div[1]/div[1]/div[2]/div[1]/div[2]\").text\\nTemp_1 = browser.find_element(\"xpath\", \"/html/body/main/div/div[5]/div[2]/div/ul/li[1]/div/p[4]\").text\\nPeriod_2 = browser.find_element(\"xpath\", \"/html/body/main/div/div[6]/div[1]/div[1]/div[2]/div[2]/div[1]/b\").text\\nDes_2 = browser.find_element(\"xpath\", \"/html/body/main/div/div[6]/div[1]/div[1]/div[2]/div[2]/div[2]\").text\\nTemp_2 = browser.find_element(\"xpath\", \"/html/body/main/div/div[5]/div[2]/div/ul/li[2]/div/p[4]\").text  '"
      ]
     },
     "execution_count": 6,
     "metadata": {},
     "output_type": "execute_result"
    }
   ],
   "source": [
    "# test\n",
    "weather = pd.DataFrame(columns=[\"Location\", \"Period_1\", \"Des_1\", \"Temp_1\", \"Period_2\", \"Des_2\", \"Temp_2\",\\\n",
    "                        \"Period_3\", \"Des_3\", \"Temp_3\", \"Period_4\", \"Des_4\", \"Temp_4\", \\\n",
    "                        \"Period_5\", \"Des_5\", \"Temp_5\", \"Period_6\", \"Des_6\", \"Temp_6\", \\\n",
    "                        \"Period_7\", \"Des_7\", \"Temp_7\", \"Period_8\", \"Des_8\", \"Temp_8\", \\\n",
    "                        \"Period_9\", \"Des_9\", \"Temp_9\"])\n",
    "\n",
    "for n in range(100):\n",
    "    city = target_list.iloc[n][\"City\"]\n",
    "    lat = target_list.iloc[n][\"Latitude\"]\n",
    "    lon = target_list.iloc[n][\"Longitude\"]\n",
    "    weather_url = \"https://forecast.weather.gov/MapClick.php?lat={}&lon={}\".format(lat_transform(lat), lon_transform(lon))\n",
    "\n",
    "    browser.get(weather_url)\n",
    "    Period = {}\n",
    "    Des = {}\n",
    "    Temp = {}\n",
    "    for i in range(1,10):\n",
    "        Period[i] = browser.find_element(\"xpath\", \"/html/body/main/div/div[6]/div[1]/div[1]/div[2]/div[{}]/div[1]/b\".format(i)).text\n",
    "        Des[i] = browser.find_element(\"xpath\", \"/html/body/main/div/div[6]/div[1]/div[1]/div[2]/div[{}]/div[2]\".format(i)).text\n",
    "        Temp[i] = browser.find_element(\"xpath\", \"/html/body/main/div/div[5]/div[2]/div/ul/li[{}]/div/p[4]\".format(i)).text\n",
    "\n",
    "\n",
    "    temp = pd.DataFrame({\"Location\" : city, \"Period_1\" : Period[1], \"Des_1\" : Des[1], \"Temp_1\" : Temp[1], \\\n",
    "                                \"Period_2\" : Period[2], \"Des_2\" : Des[2], \"Temp_2\" : Temp[2], \\\n",
    "                                \"Period_3\" : Period[3], \"Des_3\" : Des[3], \"Temp_3\" : Temp[3], \\\n",
    "                                \"Period_4\" : Period[4], \"Des_4\" : Des[4], \"Temp_4\" : Temp[4], \\\n",
    "                                \"Period_5\" : Period[5], \"Des_5\" : Des[5], \"Temp_5\" : Temp[5], \\\n",
    "                                \"Period_6\" : Period[6], \"Des_6\" : Des[6], \"Temp_6\" : Temp[6], \\\n",
    "                                \"Period_7\" : Period[7], \"Des_7\" : Des[7], \"Temp_7\" : Temp[7], \\\n",
    "                                \"Period_8\" : Period[8], \"Des_8\" : Des[8], \"Temp_8\" : Temp[8], \\\n",
    "                                \"Period_9\" : Period[9], \"Des_9\" : Des[9], \"Temp_9\" : Temp[9]}, index=[n])\n",
    "    weather = pd.concat([weather, temp], axis=0)\n",
    "    weather.to_csv(\"data/temp.csv\", index=False)\n",
    "    time.sleep(np.random.uniform(2,4))"
   ]
  },
  {
   "cell_type": "code",
   "execution_count": null,
   "metadata": {},
   "outputs": [],
   "source": []
  }
 ],
 "metadata": {
  "kernelspec": {
   "display_name": "Python 3.9.13 ('base')",
   "language": "python",
   "name": "python3"
  },
  "language_info": {
   "codemirror_mode": {
    "name": "ipython",
    "version": 3
   },
   "file_extension": ".py",
   "mimetype": "text/x-python",
   "name": "python",
   "nbconvert_exporter": "python",
   "pygments_lexer": "ipython3",
   "version": "3.9.13"
  },
  "orig_nbformat": 4,
  "vscode": {
   "interpreter": {
    "hash": "72af1ffc75a182d8026fd8f0e4608e6219cf801f8e77b227b63b94805427af6d"
   }
  }
 },
 "nbformat": 4,
 "nbformat_minor": 2
}
